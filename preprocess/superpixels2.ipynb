{
 "cells": [
  {
   "cell_type": "code",
   "execution_count": 1,
   "metadata": {},
   "outputs": [],
   "source": [
    "import os\n",
    "from skimage.measure import regionprops\n",
    "from skimage.segmentation import slic\n",
    "from skimage.util import img_as_float\n",
    "from skimage.segmentation import mark_boundaries\n",
    "from skimage import io\n",
    "from skimage import color\n",
    "import numpy as np\n",
    "import argparse\n",
    "import cv2\n",
    "import sys\n",
    "import random\n",
    "import matplotlib.pyplot as plt\n",
    "from PIL import Image\n",
    "from tqdm import tqdm\n"
   ]
  },
  {
   "cell_type": "code",
   "execution_count": 2,
   "metadata": {},
   "outputs": [],
   "source": [
    "rootdir = 'D:\\imagenet\\\\full\\\\train'\n",
    "savedir = 'D:\\imagenet\\\\full\\\\train_spixel'\n",
    "\n",
    "image_paths = []\n",
    "for subdir, dirs, files in os.walk(rootdir):\n",
    "    for file in files:\n",
    "        image_paths.append(os.path.join(subdir, file))"
   ]
  },
  {
   "cell_type": "code",
   "execution_count": 4,
   "metadata": {},
   "outputs": [
    {
     "name": "stderr",
     "output_type": "stream",
     "text": [
      "100%|██████████| 1281167/1281167 [30:49:32<00:00, 11.54it/s]\n"
     ]
    },
    {
     "data": {
      "text/plain": [
       "'# Draw boundary contour\\nmask = seeds.getLabelContourMask(False)\\nmask_inv = cv2.bitwise_not(mask)\\nresult_bg = cv2.bitwise_and(img, img, mask=mask_inv)\\nresult_fg = cv2.bitwise_and(color_img, color_img, mask=mask)\\nresult = cv2.add(result_bg, result_fg)\\n\\n#Image.fromarray(result).show()'"
      ]
     },
     "execution_count": 4,
     "metadata": {},
     "output_type": "execute_result"
    }
   ],
   "source": [
    "os.makedirs(savedir, exist_ok=True)\n",
    "img_size = [int(256*1.15), int(256*1.15)]\n",
    "\n",
    "for i in tqdm(range(len(image_paths))):\n",
    "    path = image_paths[i]\n",
    "    img = Image.open(path).resize(img_size).convert('RGB')\n",
    "    img = np.array(img)\n",
    "    fclass = path.split('\\\\')[-2]\n",
    "    fname = path.split('\\\\')[-1].split('.')[0]\n",
    "    converted_img = cv2.cvtColor(img, cv2.COLOR_RGB2HSV)\n",
    "\n",
    "    height,width,channels = converted_img.shape\n",
    "    num_iterations = 6\n",
    "    prior = 2\n",
    "    double_step = False\n",
    "    num_superpixels = 256\n",
    "    num_levels = 4\n",
    "    num_histogram_bins = 5\n",
    "\n",
    "    seeds = cv2.ximgproc.createSuperpixelSEEDS(width, height, channels, num_superpixels, num_levels, prior, num_histogram_bins)\n",
    "    color_img = np.zeros((height, width, 3), np.uint8)\n",
    "    color_img[:] = (0, 0, 255)\n",
    "    seeds.iterate(converted_img, num_iterations)\n",
    "\n",
    "    # retrieve the segmentation result\n",
    "    labels = seeds.getLabels()\n",
    "    quantize_img = img.copy()\n",
    "    low = np.min(labels)\n",
    "    high = np.max(labels)\n",
    "    for c in range(low, high+1):\n",
    "        quantize_img[labels == c, :] = np.mean(img[labels == c, :], axis=0)\n",
    "\n",
    "    result = Image.fromarray(quantize_img)\n",
    "    os.makedirs(os.path.join(savedir, fclass), exist_ok=True)\n",
    "    result.save(os.path.join(savedir, fclass, fname+'.png'))\n",
    "\n",
    "\n",
    "'''# Draw boundary contour\n",
    "mask = seeds.getLabelContourMask(False)\n",
    "mask_inv = cv2.bitwise_not(mask)\n",
    "result_bg = cv2.bitwise_and(img, img, mask=mask_inv)\n",
    "result_fg = cv2.bitwise_and(color_img, color_img, mask=mask)\n",
    "result = cv2.add(result_bg, result_fg)\n",
    "\n",
    "#Image.fromarray(result).show()'''"
   ]
  },
  {
   "cell_type": "code",
   "execution_count": null,
   "metadata": {},
   "outputs": [],
   "source": [
    "img = Image.open(os.path.join(savedir, 'n01440764', 'ILSVRC2012_val_00000293.png'))\n",
    "\n",
    "array = np.array(img)\n",
    "print(len(np.unique(array.reshape(-1, 3), axis=0)))"
   ]
  },
  {
   "cell_type": "code",
   "execution_count": null,
   "metadata": {},
   "outputs": [],
   "source": [
    "numSegments = 256\n",
    "\n",
    "for path in image_paths[1:2]:\n",
    "    image = io.imread(path)\n",
    "    if len(image.shape) == 2:\n",
    "        image = color.gray2rgb(image)\n",
    "\n",
    "    Image.fromarray((image).astype(np.uint8)).show()\n",
    "\n",
    "    segments = slic(image, n_segments=256, compactness=10.0)\n",
    "\n",
    "    regions = regionprops(segments, intensity_image=image)\n",
    "\n",
    "    for i, r in enumerate(regions):\n",
    "        print(i)\n",
    "        image[r.coords[:, 0], r.coords[:, 1], :] = r.mean_intensity\n",
    "    \n",
    "    #image = mark_boundaries(image, segments)\n",
    "\n",
    "Image.fromarray((image).astype(np.uint8)).show()\n"
   ]
  },
  {
   "cell_type": "code",
   "execution_count": null,
   "metadata": {},
   "outputs": [],
   "source": [
    "img = cv2.imread(image_paths[0])\n",
    "\n",
    "slic = cv2.ximgproc.createSuperpixelSLIC(img)\n",
    "slic.iterate(10)\n",
    "mask = slic.getLabelContourMask()\n",
    "\n",
    "Image.fromarray(mask).show()"
   ]
  }
 ],
 "metadata": {
  "interpreter": {
   "hash": "b3ba2566441a7c06988d0923437866b63cedc61552a5af99d1f4fb67d367b25f"
  },
  "kernelspec": {
   "display_name": "Python 3.8.8 64-bit ('base': conda)",
   "name": "python3"
  },
  "language_info": {
   "codemirror_mode": {
    "name": "ipython",
    "version": 3
   },
   "file_extension": ".py",
   "mimetype": "text/x-python",
   "name": "python",
   "nbconvert_exporter": "python",
   "pygments_lexer": "ipython3",
   "version": "3.8.8"
  },
  "orig_nbformat": 4
 },
 "nbformat": 4,
 "nbformat_minor": 2
}
