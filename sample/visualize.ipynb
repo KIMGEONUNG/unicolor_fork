{
 "cells": [
  {
   "cell_type": "code",
   "execution_count": 1,
   "metadata": {},
   "outputs": [],
   "source": [
    "import sys\n",
    "import os\n",
    "import cv2\n",
    "import importlib\n",
    "import torch\n",
    "import numpy as np\n",
    "import argparse\n",
    "import yaml\n",
    "from tqdm import tqdm\n",
    "from PIL import Image, ImageDraw, ImageOps\n",
    "import json\n",
    "import nltk\n",
    "import torchvision.transforms as T\n",
    "import matplotlib.pyplot as plt\n",
    "import torch.nn.functional as F\n",
    "from scipy import signal\n",
    "import matplotlib.pyplot as plt\n",
    "from matplotlib.widgets import Button\n",
    "import clip\n",
    "import kornia\n",
    "import torchvision\n",
    "import skimage.color\n",
    "import random\n",
    "\n",
    "from html_images import *\n",
    "from sample_func import *"
   ]
  },
  {
   "cell_type": "code",
   "execution_count": 2,
   "metadata": {},
   "outputs": [],
   "source": [
    "def getImage(path):\n",
    "    for ext in ['jpg', 'png', 'JPEG']:\n",
    "        file = path + '.' + ext\n",
    "        if os.path.isfile(file):\n",
    "            return Image.open(file).convert('RGB')\n",
    "\n",
    "    return None\n",
    "\n",
    "\n",
    "def resize_ab(org, img):\n",
    "    img = img.resize(org.size)\n",
    "\n",
    "    org = np.array(org)\n",
    "    l = cv2.cvtColor(org, cv2.COLOR_RGB2LAB)[:, :, 0:1]\n",
    "\n",
    "    img = np.array(img)\n",
    "    ab = cv2.cvtColor(img, cv2.COLOR_RGB2LAB)[:, :, 1:3]\n",
    "\n",
    "    lab = np.concatenate([l, ab], axis=2)\n",
    "    rgb = cv2.cvtColor(lab, cv2.COLOR_LAB2RGB)\n",
    "    return Image.fromarray(rgb)"
   ]
  },
  {
   "cell_type": "markdown",
   "metadata": {},
   "source": [
    "# Visualize raw"
   ]
  },
  {
   "cell_type": "code",
   "execution_count": null,
   "metadata": {},
   "outputs": [],
   "source": [
    "dataset = 'imagenet'\n",
    "\n",
    "save_dir = './result/random100'\n",
    "orig_dir = 'original'\n",
    "comp_dirs = ['instcolorization', 'deoldify', 'coltran', 'ours/sample_resize']\n",
    "num = 50\n",
    "\n",
    "# Save result in HTML file\n",
    "html = HTML(save_dir, 'Sample')\n",
    "html.add_header(save_dir)\n",
    "\n",
    "files = os.listdir(os.path.join(dataset, orig_dir))\n",
    "np.random.shuffle(files)\n",
    "\n",
    "for i, f in tqdm(enumerate(files[:num])):\n",
    "    images = []\n",
    "\n",
    "    fname = f.split('.')[0]\n",
    "    org_img = getImage(os.path.join(dataset, orig_dir, fname))\n",
    "    images.append(org_img.convert('L'))\n",
    "    images.append(org_img.copy())\n",
    "\n",
    "    for path in comp_dirs:\n",
    "        img = getImage(os.path.join(dataset, path, fname))\n",
    "        if img == None:\n",
    "            img = Image.new('RGB', org_img.size)\n",
    "        if list(img.size) == [256, 256]:\n",
    "            img = resize_ab(org_img, img)\n",
    "        images.append(img.copy())\n",
    "    \n",
    "    text = comp_dirs.copy()\n",
    "    text.insert(0, orig_dir)\n",
    "    text[-1] += ' ' + f\n",
    "    save_result(html, index=i, images=images, texts=text)\n",
    "    html.save()"
   ]
  }
 ],
 "metadata": {
  "interpreter": {
   "hash": "0600588c3b5f4418cbe7b5ebc6825b479f3bc010269d8b60d75058cdd010adfe"
  },
  "kernelspec": {
   "display_name": "Python 3.7.9 64-bit",
   "language": "python",
   "name": "python3"
  },
  "language_info": {
   "codemirror_mode": {
    "name": "ipython",
    "version": 3
   },
   "file_extension": ".py",
   "mimetype": "text/x-python",
   "name": "python",
   "nbconvert_exporter": "python",
   "pygments_lexer": "ipython3",
   "version": "3.7.9"
  },
  "orig_nbformat": 4
 },
 "nbformat": 4,
 "nbformat_minor": 2
}
