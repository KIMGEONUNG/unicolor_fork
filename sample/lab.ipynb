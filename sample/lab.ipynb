{
 "cells": [
  {
   "cell_type": "code",
   "execution_count": 2,
   "metadata": {},
   "outputs": [],
   "source": [
    "from PIL import Image\n",
    "import torch\n",
    "import kornia\n",
    "\n",
    "from utils_func import *"
   ]
  },
  {
   "cell_type": "code",
   "execution_count": 4,
   "metadata": {},
   "outputs": [],
   "source": [
    "image = Image.open('C:\\\\MyFiles\\\\CondTran\\\\data\\\\raw\\\\in1.JPEG')\n",
    "\n",
    "x = preprocess(image, None)\n",
    "\n",
    "lab = kornia.color.rgb_to_lab((x+1.0)*0.5)  # LAB color\n",
    "\n",
    "L = lab[:, 0:1, :, :]  # L in range [0, 100]\n",
    "ab = lab[:, 1:3, :, :] / 127.0  # ab in range [-1, 1]\n",
    "\n",
    "\n",
    "dec_lab = torch.cat([L, 127.0*ab], dim=1)  # rec LAB color\n",
    "dec_rgb = kornia.color.lab_to_rgb(dec_lab)  # rec RGB color in range [0, 1]\n",
    "dec_rgb = dec_rgb * 2.0 - 1.0  # rec RGB color in range [-1, 1]\n",
    "\n",
    "output_to_pil(x[0]).show()\n",
    "output_to_pil(dec_rgb[0]).show()"
   ]
  },
  {
   "cell_type": "code",
   "execution_count": 4,
   "metadata": {},
   "outputs": [
    {
     "name": "stdout",
     "output_type": "stream",
     "text": [
      "tensor([[[[ 0.0018,  0.0105,  0.0046,  ...,  0.0050,  0.0116,  0.0012],\n",
      "          [-0.0015, -0.0118, -0.0065,  ..., -0.0059, -0.0130,  0.0011],\n",
      "          [ 0.0102, -0.0063, -0.0203,  ..., -0.0191, -0.0046,  0.0105],\n",
      "          ...,\n",
      "          [ 0.0121, -0.0007, -0.0212,  ..., -0.0181, -0.0032,  0.0157],\n",
      "          [-0.0019, -0.0133, -0.0044,  ..., -0.0049, -0.0127, -0.0034],\n",
      "          [ 0.0038,  0.0106,  0.0129,  ...,  0.0096,  0.0072,  0.0012]]]])\n"
     ]
    }
   ],
   "source": [
    "image = Image.open('C:\\\\MyFiles\\\\CondTran\\\\data\\\\raw\\\\in1.JPEG')\n",
    "\n",
    "x = preprocess(image, None)\n",
    "\n",
    "lab = kornia.color.rgb_to_lab((x+1.0)*0.5)  # LAB color\n",
    "\n",
    "L = lab[:, 0:1, :, :]  # L in range [0, 100]\n",
    "ab = lab[:, 1:3, :, :] / 127.0  # ab in range [-1, 1]\n",
    "\n",
    "gray = kornia.color.rgb_to_grayscale((x+1.0)*0.5)\n",
    "\n",
    "print(gray - L / 100.0)"
   ]
  },
  {
   "cell_type": "code",
   "execution_count": null,
   "metadata": {},
   "outputs": [],
   "source": []
  }
 ],
 "metadata": {
  "interpreter": {
   "hash": "0600588c3b5f4418cbe7b5ebc6825b479f3bc010269d8b60d75058cdd010adfe"
  },
  "kernelspec": {
   "display_name": "Python 3.7.9 64-bit",
   "language": "python",
   "name": "python3"
  },
  "language_info": {
   "codemirror_mode": {
    "name": "ipython",
    "version": 3
   },
   "file_extension": ".py",
   "mimetype": "text/x-python",
   "name": "python",
   "nbconvert_exporter": "python",
   "pygments_lexer": "ipython3",
   "version": "3.7.9"
  },
  "orig_nbformat": 4
 },
 "nbformat": 4,
 "nbformat_minor": 2
}
